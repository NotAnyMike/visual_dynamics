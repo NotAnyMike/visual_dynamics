{
 "cells": [
  {
   "cell_type": "markdown",
   "metadata": {},
   "source": [
    "# Step by step reconstruction of the model"
   ]
  },
  {
   "cell_type": "code",
   "execution_count": 1,
   "metadata": {},
   "outputs": [],
   "source": [
    "import numpy as np\n",
    "import tensorflow as tf\n",
    "import os\n",
    "import cv2\n",
    "import matplotlib.pyplot as plt\n",
    "\n",
    "%matplotlib inline"
   ]
  },
  {
   "cell_type": "code",
   "execution_count": 2,
   "metadata": {},
   "outputs": [],
   "source": [
    "def load_data(img_dir, ending):\n",
    "    return np.array([cv2.imread(os.path.join(img_dir, img)) for img in os.listdir(img_dir) if img.endswith(ending)])\n"
   ]
  },
  {
   "cell_type": "code",
   "execution_count": 3,
   "metadata": {},
   "outputs": [],
   "source": [
    "X_ORG = load_data(\"3Shapes2_large/\", \"im1.png\")\n",
    "Y_ORG = load_data(\"3Shapes2_large/\",\"im2.png\")"
   ]
  },
  {
   "cell_type": "code",
   "execution_count": 4,
   "metadata": {},
   "outputs": [
    {
     "data": {
      "text/plain": [
       "(8015, 128, 128, 3)"
      ]
     },
     "execution_count": 4,
     "metadata": {},
     "output_type": "execute_result"
    }
   ],
   "source": [
    "X_ORG.shape"
   ]
  },
  {
   "cell_type": "code",
   "execution_count": 5,
   "metadata": {},
   "outputs": [],
   "source": [
    "X = X_ORG[:10]\n",
    "Y = Y_ORG[:10]"
   ]
  },
  {
   "cell_type": "code",
   "execution_count": 26,
   "metadata": {},
   "outputs": [],
   "source": [
    "def create_graph(img1, img2, batch_size):\n",
    "    img1_64 = tf.nn.max_pool(img1, ksize=[1,2,2,1], strides=[1,2,2,1], padding='VALID')\n",
    "    img2_64 = tf.nn.max_pool(img2, ksize=[1,2,2,1], strides=[1,2,2,1], padding='VALID')\n",
    "    \n",
    "    #Motion encoder\n",
    "\n",
    "    #First convolution: 5x5x96\n",
    "    weights = tf.Variable(tf.random_normal([5,5,3,96]))\n",
    "    bias = tf.Variable(tf.zeros([96,]))\n",
    "    logits = tf.nn.conv2d(img1_64, filter=weights, strides=[1,1,1,1], padding='SAME')\n",
    "    logits = tf.add(logits, bias)\n",
    "    logits = tf.nn.relu(logits)\n",
    "    \n",
    "    #Second convolution: 5x5x96\n",
    "    weights = tf.Variable(tf.random_normal([5,5,96,96]))\n",
    "    bias = tf.Variable(tf.zeros([96,]))\n",
    "    logits = tf.nn.conv2d(logits, filter=weights, strides=[1,1,1,1], padding='SAME')\n",
    "    logits = tf.add(logits, bias)\n",
    "    logits = tf.nn.max_pool(logits, ksize=[1,2,2,1], strides=[1,2,2,1], padding='VALID')\n",
    "    logits = tf.nn.relu(logits)\n",
    "    \n",
    "    #Third convolution: 5x5x128\n",
    "    weights = tf.Variable(tf.random_normal([5,5,96,128])) # 128\n",
    "    bias = tf.Variable(tf.zeros([128,]))\n",
    "    logits = tf.nn.conv2d(logits, filter=weights, strides=[1,1,1,1], padding='SAME')\n",
    "    logits = tf.add(logits, bias)\n",
    "    logits = tf.nn.max_pool(logits, ksize=[1,2,2,1], strides=[1,2,2,1], padding='VALID')\n",
    "    logits = tf.nn.relu(logits)\n",
    "    \n",
    "    #Forth convolution: 5x5x128\n",
    "    weights = tf.Variable(tf.random_normal([5,5,128,128]))\n",
    "    bias = tf.Variable(tf.zeros([128,]))\n",
    "    logits = tf.nn.conv2d(logits, filter=weights, strides=[1,1,1,1], padding='VALID')\n",
    "    logits = tf.add(logits, bias)\n",
    "    logits = tf.nn.max_pool(logits, ksize=[1,2,2,1], strides=[1,2,2,1], padding='VALID')\n",
    "    logits = tf.nn.relu(logits)\n",
    "\n",
    "    #Fifth convolution: 5x5x256\n",
    "    weights = tf.Variable(tf.random_normal([5,5,128,256])) #256\n",
    "    bias = tf.Variable(tf.zeros([256,]))\n",
    "    logits = tf.nn.conv2d(logits, filter=weights, strides=[1,1,1,1], padding='VALID')\n",
    "    logits = tf.add(logits, bias)\n",
    "    logits = tf.nn.max_pool(logits, ksize=[1,2,2,1], strides=[1,2,2,1], padding='VALID')\n",
    "    logits = tf.nn.relu(logits)\n",
    "\n",
    "    #Sixth convolution: 5x5x256\n",
    "    weights = tf.Variable(tf.random_normal([5,5,256,3])) # TODO change 3 for 256\n",
    "    bias = tf.Variable(tf.zeros([3,]))\n",
    "    logits = tf.nn.conv2d(logits, filter=weights, strides=[1,1,1,1], padding='SAME')\n",
    "    logits = tf.add(logits, bias)\n",
    "    logits = tf.nn.relu(logits)\n",
    "    \n",
    "    logits = tf.image.resize_images(logits, [64,128])\n",
    "    \n",
    "    #flatten\n",
    "    logits_flatten = tf.reshape(logits, shape=[logits.shape.as_list()[0],-1])\n",
    "    \n",
    "    # mean and std\n",
    "    mean, std_log = tf.split(logits_flatten, 2, axis=1)\n",
    "    epsilon = tf.random_normal(mean.shape.as_list(),0,1, dtype=tf.float32)\n",
    "    kernel = mean + tf.multiply(std_log,epsilon)\n",
    "    \n",
    "    kernel = tf.reshape(kernel, shape=[batch_size,64,64,3])\n",
    "    kernel = tf.nn.sigmoid(kernel)\n",
    "    \n",
    "    return img1_64, img2_64, kernel\n"
   ]
  },
  {
   "cell_type": "code",
   "execution_count": 27,
   "metadata": {},
   "outputs": [],
   "source": [
    "def train(prediction, y):\n",
    "    l2_loss = tf.reduce_mean(tf.square(prediction - y))\n",
    "    optimizer = tf.train.AdamOptimizer(0.01)\n",
    "    train = optimizer.minimize(l2_loss)\n",
    "    \n",
    "    return l2_loss, train"
   ]
  },
  {
   "cell_type": "code",
   "execution_count": 28,
   "metadata": {},
   "outputs": [],
   "source": [
    "# run the model\n",
    "def run(X, Y, n_epochs = 10, batch_size = 30):\n",
    "    img1 = tf.placeholder(shape=(batch_size,128,128,3), dtype=tf.float32, name=\"s1s\")\n",
    "    img2 = tf.placeholder(shape=(batch_size,128,128,3), dtype=tf.float32)\n",
    "    \n",
    "    img1_64, img2_64, output = create_graph(img1, img2, batch_size)\n",
    "    loss, training = train(output, img2_64)\n",
    "    \n",
    "    with tf.Session() as sess:\n",
    "        \n",
    "        sess.run(tf.global_variables_initializer())\n",
    "        \n",
    "        for epoch in range(n_epochs):\n",
    "            \n",
    "            print('Epoch %i/%i' % (epoch+1, n_epochs))\n",
    "            cumulative_loss = 0.0\n",
    "            \n",
    "            for batch_num in range(int(X.shape[0]/batch_size)):\n",
    "                # get x and y\n",
    "                from_index = batch_size*batch_num\n",
    "                to_index = batch_size*batch_num + batch_size if batch_size*(batch_num+1) < X.shape[0] else X.shape[0]\n",
    "                x = X[from_index:to_index]\n",
    "                y = Y[from_index:to_index]\n",
    "                \n",
    "                # run train and loss\n",
    "                _, batch_loss = sess.run([training,loss], feed_dict={img1:x, img2:y})\n",
    "                print(\"\\t\\tbatch_loss:\", batch_loss)\n",
    "                cumulative_loss += batch_loss\n",
    "            \n",
    "            print(\"\\tEpoch's loss:\", cumulative_loss)\n",
    "        \n",
    "        final = output.eval(feed_dict={img1:X_ORG[11:13],img2:Y_ORG[11:13]})[0]\n",
    "        \n",
    "        fig, axs = plt.subplots(2)\n",
    "        axs[0].imshow(X_ORG[11])\n",
    "        axs[1].imshow(final)\n",
    "\n",
    "                "
   ]
  },
  {
   "cell_type": "markdown",
   "metadata": {},
   "source": [
    "# TODO\n",
    "1. Solve the nan problem\n",
    "2. Integrate different sizes"
   ]
  },
  {
   "cell_type": "code",
   "execution_count": null,
   "metadata": {},
   "outputs": [
    {
     "name": "stdout",
     "output_type": "stream",
     "text": [
      "Epoch 1/10\n",
      "\t\tbatch_loss: 43203.9\n",
      "\t\tbatch_loss: 41209.0\n",
      "\t\tbatch_loss: 46125.0\n",
      "\t\tbatch_loss: 40584.9\n",
      "\t\tbatch_loss: 48272.4\n",
      "\tEpoch's loss: 219395.058594\n",
      "Epoch 2/10\n",
      "\t\tbatch_loss: 43203.2\n",
      "\t\tbatch_loss: 41208.4\n",
      "\t\tbatch_loss: 46125.3\n",
      "\t\tbatch_loss: 40584.8\n",
      "\t\tbatch_loss: 48270.6\n",
      "\tEpoch's loss: 219392.363281\n",
      "Epoch 3/10\n",
      "\t\tbatch_loss: 43203.5\n",
      "\t\tbatch_loss: 41209.9\n",
      "\t\tbatch_loss: 46124.7\n",
      "\t\tbatch_loss: 40584.7\n",
      "\t\tbatch_loss: 48272.0\n",
      "\tEpoch's loss: 219394.832031\n",
      "Epoch 4/10\n",
      "\t\tbatch_loss: 43203.4\n",
      "\t\tbatch_loss: 41209.4\n",
      "\t\tbatch_loss: 46125.4\n",
      "\t\tbatch_loss: 40584.7\n",
      "\t\tbatch_loss: 48270.7\n",
      "\tEpoch's loss: 219393.625\n",
      "Epoch 5/10\n",
      "\t\tbatch_loss: 43203.7\n",
      "\t\tbatch_loss: 41208.9\n",
      "\t\tbatch_loss: 46126.2\n",
      "\t\tbatch_loss: 40584.7\n",
      "\t\tbatch_loss: 48270.6\n",
      "\tEpoch's loss: 219394.117188\n",
      "Epoch 6/10\n",
      "\t\tbatch_loss: 43202.8\n",
      "\t\tbatch_loss: 41208.6\n",
      "\t\tbatch_loss: 46124.5\n",
      "\t\tbatch_loss: 40585.3\n",
      "\t\tbatch_loss: 48271.4\n",
      "\tEpoch's loss: 219392.582031\n",
      "Epoch 7/10\n",
      "\t\tbatch_loss: 43202.5\n",
      "\t\tbatch_loss: 41209.4\n",
      "\t\tbatch_loss: 46125.0\n",
      "\t\tbatch_loss: 40585.2\n",
      "\t\tbatch_loss: 48272.1\n",
      "\tEpoch's loss: 219394.199219\n",
      "Epoch 8/10\n",
      "\t\tbatch_loss: 43203.7\n",
      "\t\tbatch_loss: 41210.6\n",
      "\t\tbatch_loss: 46124.7\n",
      "\t\tbatch_loss: 40583.8\n",
      "\t\tbatch_loss: 48271.3\n",
      "\tEpoch's loss: 219394.011719\n",
      "Epoch 9/10\n",
      "\t\tbatch_loss: 43204.4\n",
      "\t\tbatch_loss: 41210.1\n",
      "\t\tbatch_loss: 46124.8\n",
      "\t\tbatch_loss: 40584.3\n",
      "\t\tbatch_loss: 48271.7\n",
      "\tEpoch's loss: 219395.398438\n",
      "Epoch 10/10\n",
      "\t\tbatch_loss: 43203.5\n",
      "\t\tbatch_loss: 41208.9\n",
      "\t\tbatch_loss: 46125.6\n"
     ]
    }
   ],
   "source": [
    "run(X, Y, 10, 2)"
   ]
  },
  {
   "cell_type": "code",
   "execution_count": null,
   "metadata": {},
   "outputs": [],
   "source": []
  },
  {
   "cell_type": "code",
   "execution_count": null,
   "metadata": {},
   "outputs": [],
   "source": []
  }
 ],
 "metadata": {
  "kernelspec": {
   "display_name": "Python 3",
   "language": "python",
   "name": "python3"
  },
  "language_info": {
   "codemirror_mode": {
    "name": "ipython",
    "version": 3
   },
   "file_extension": ".py",
   "mimetype": "text/x-python",
   "name": "python",
   "nbconvert_exporter": "python",
   "pygments_lexer": "ipython3",
   "version": "3.6.5"
  }
 },
 "nbformat": 4,
 "nbformat_minor": 2
}
