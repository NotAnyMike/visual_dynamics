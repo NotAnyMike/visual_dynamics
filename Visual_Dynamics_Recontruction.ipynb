{
 "cells": [
  {
   "cell_type": "markdown",
   "metadata": {},
   "source": [
    "# Step by step reconstruction of the model"
   ]
  },
  {
   "cell_type": "code",
   "execution_count": 2,
   "metadata": {},
   "outputs": [],
   "source": [
    "import numpy as np\n",
    "import tensorflow as tf\n",
    "import os\n",
    "import cv2"
   ]
  },
  {
   "cell_type": "code",
   "execution_count": 6,
   "metadata": {},
   "outputs": [],
   "source": [
    "def load_data(img_dir, ending):\n",
    "    return np.array([cv2.imread(os.path.join(img_dir, img)) for img in os.listdir(img_dir) if img.endswith(ending)])\n"
   ]
  },
  {
   "cell_type": "code",
   "execution_count": 129,
   "metadata": {},
   "outputs": [],
   "source": [
    "X = load_data(\"3Shapes2_large/\", \"im1.png\")\n",
    "Y = load_data(\"3Shapes2_large/\",\"im2.png\")"
   ]
  },
  {
   "cell_type": "code",
   "execution_count": 130,
   "metadata": {},
   "outputs": [
    {
     "data": {
      "text/plain": [
       "(8015, 128, 128, 3)"
      ]
     },
     "execution_count": 130,
     "metadata": {},
     "output_type": "execute_result"
    }
   ],
   "source": [
    "X.shape"
   ]
  },
  {
   "cell_type": "code",
   "execution_count": 194,
   "metadata": {},
   "outputs": [],
   "source": [
    "X = X[:10]\n",
    "Y = Y[:10]"
   ]
  },
  {
   "cell_type": "code",
   "execution_count": 199,
   "metadata": {},
   "outputs": [],
   "source": [
    "def create_graph(img1, img2, batch_size):\n",
    "    img1_64 = tf.nn.max_pool(img1, ksize=[1,2,2,1], strides=[1,2,2,1], padding='VALID')\n",
    "    img2_64 = tf.nn.max_pool(img2, ksize=[1,2,2,1], strides=[1,2,2,1], padding='VALID')\n",
    "    \n",
    "    #Motion encoder\n",
    "\n",
    "    #First convolution: 5x5x96\n",
    "    weights = tf.Variable(tf.random_normal([5,5,3,96]))\n",
    "    bias = tf.Variable(tf.zeros([96,]))\n",
    "    logits = tf.nn.conv2d(img1_64, filter=weights, strides=[1,1,1,1], padding='SAME')\n",
    "    logits = tf.add(logits, bias)\n",
    "    logits = tf.nn.relu(logits)\n",
    "    \n",
    "    #Second convolution: 5x5x96\n",
    "    weights = tf.Variable(tf.random_normal([5,5,96,96]))\n",
    "    bias = tf.Variable(tf.zeros([96,]))\n",
    "    logits = tf.nn.conv2d(logits, filter=weights, strides=[1,1,1,1], padding='SAME')\n",
    "    logits = tf.add(logits, bias)\n",
    "    logits = tf.nn.max_pool(logits, ksize=[1,2,2,1], strides=[1,2,2,1], padding='VALID')\n",
    "    logits = tf.nn.relu(logits)\n",
    "    \n",
    "    #Third convolution: 5x5x128\n",
    "    weights = tf.Variable(tf.random_normal([5,5,96,128])) # 128\n",
    "    bias = tf.Variable(tf.zeros([128,]))\n",
    "    logits = tf.nn.conv2d(logits, filter=weights, strides=[1,1,1,1], padding='SAME')\n",
    "    logits = tf.add(logits, bias)\n",
    "    logits = tf.nn.max_pool(logits, ksize=[1,2,2,1], strides=[1,2,2,1], padding='VALID')\n",
    "    logits = tf.nn.relu(logits)\n",
    "    \n",
    "    #Forth convolution: 5x5x128\n",
    "    weights = tf.Variable(tf.random_normal([5,5,128,128]))\n",
    "    bias = tf.Variable(tf.zeros([128,]))\n",
    "    logits = tf.nn.conv2d(logits, filter=weights, strides=[1,1,1,1], padding='VALID')\n",
    "    logits = tf.add(logits, bias)\n",
    "    logits = tf.nn.max_pool(logits, ksize=[1,2,2,1], strides=[1,2,2,1], padding='VALID')\n",
    "    logits = tf.nn.relu(logits)\n",
    "\n",
    "    #Fifth convolution: 5x5x256\n",
    "    weights = tf.Variable(tf.random_normal([5,5,128,256])) #256\n",
    "    bias = tf.Variable(tf.zeros([256,]))\n",
    "    logits = tf.nn.conv2d(logits, filter=weights, strides=[1,1,1,1], padding='VALID')\n",
    "    logits = tf.add(logits, bias)\n",
    "    logits = tf.nn.max_pool(logits, ksize=[1,2,2,1], strides=[1,2,2,1], padding='VALID')\n",
    "    logits = tf.nn.relu(logits)\n",
    "\n",
    "    #Sixth convolution: 5x5x256\n",
    "    weights = tf.Variable(tf.random_normal([5,5,256,3])) # TODO change 3 for 256\n",
    "    bias = tf.Variable(tf.zeros([3,]))\n",
    "    logits = tf.nn.conv2d(logits, filter=weights, strides=[1,1,1,1], padding='SAME')\n",
    "    logits = tf.add(logits, bias)\n",
    "    logits = tf.nn.relu(logits)\n",
    "    tf.Print(logits,[logits])\n",
    "    \n",
    "    logits = tf.image.resize_images(logits, [64,128])\n",
    "    \n",
    "    #flatten\n",
    "    logits_flatten = tf.reshape(logits, shape=[logits.shape.as_list()[0],-1])\n",
    "    \n",
    "    # mean and std\n",
    "    mean, std_log = tf.split(logits_flatten, 2, axis=1)\n",
    "    epsilon = tf.random_normal(mean.shape.as_list(),0,1, dtype=tf.float32)\n",
    "    kernel = mean + tf.multiply(tf.exp(std_log),epsilon)\n",
    "    \n",
    "    kernel = tf.reshape(kernel, shape=[batch_size,64,64,3])\n",
    "    \n",
    "    return img1_64, img2_64, kernel\n"
   ]
  },
  {
   "cell_type": "code",
   "execution_count": 200,
   "metadata": {},
   "outputs": [],
   "source": [
    "def train(prediction, y):\n",
    "    l2_loss = tf.reduce_mean(tf.square(prediction - y))\n",
    "    optimizer = tf.train.AdamOptimizer(0.1)\n",
    "    train = optimizer.minimize(l2_loss)\n",
    "    \n",
    "    return l2_loss, train"
   ]
  },
  {
   "cell_type": "code",
   "execution_count": 201,
   "metadata": {},
   "outputs": [],
   "source": [
    "# run the model\n",
    "def run(X, Y, n_epochs = 10, batch_size = 30):\n",
    "    img1 = tf.placeholder(shape=(batch_size,128,128,3), dtype=tf.float32, name=\"s1s\")\n",
    "    img2 = tf.placeholder(shape=(batch_size,128,128,3), dtype=tf.float32)\n",
    "    \n",
    "    img1_64, img2_64, output = create_graph(img1, img2, batch_size)\n",
    "    loss, training = train(output, img2_64)\n",
    "    \n",
    "    with tf.Session() as sess:\n",
    "        \n",
    "        sess.run(tf.global_variables_initializer())\n",
    "        \n",
    "        for epoch in range(n_epochs):\n",
    "            \n",
    "            print('Epoch %i/%i' % (epoch+1, n_epochs))\n",
    "            cumulative_loss = 0.0\n",
    "            \n",
    "            for batch_num in range(int(X.shape[0]/batch_size)-1):\n",
    "                # get x and y\n",
    "                from_index = batch_size*batch_num\n",
    "                to_index = batch_size*batch_num + batch_size\n",
    "                x = X[from_index:to_index]\n",
    "                y = Y[from_index:to_index]\n",
    "                \n",
    "                # run train and loss\n",
    "                _, batch_loss = sess.run([training,loss], feed_dict={img1:x, img2:y})\n",
    "                print(\"\\t\\tbatch_loss:\", batch_loss)\n",
    "                cumulative_loss += batch_loss\n",
    "            \n",
    "            print(\"\\tEpoch's loss:\", cumulative_loss)\n",
    "                "
   ]
  },
  {
   "cell_type": "markdown",
   "metadata": {},
   "source": [
    "# TODO\n",
    "1. Solve the nan problem\n",
    "2. Integrate different sizes"
   ]
  },
  {
   "cell_type": "code",
   "execution_count": 202,
   "metadata": {},
   "outputs": [
    {
     "name": "stdout",
     "output_type": "stream",
     "text": [
      "Epoch 1/10\n",
      "\t\tbatch_loss: inf\n",
      "\t\tbatch_loss: nan\n",
      "\t\tbatch_loss: nan\n",
      "\t\tbatch_loss: nan\n",
      "\tEpoch's loss: nan\n",
      "Epoch 2/10\n",
      "\t\tbatch_loss: nan\n",
      "\t\tbatch_loss: nan\n",
      "\t\tbatch_loss: nan\n",
      "\t\tbatch_loss: nan\n",
      "\tEpoch's loss: nan\n",
      "Epoch 3/10\n",
      "\t\tbatch_loss: nan\n",
      "\t\tbatch_loss: nan\n",
      "\t\tbatch_loss: nan\n",
      "\t\tbatch_loss: nan\n",
      "\tEpoch's loss: nan\n",
      "Epoch 4/10\n",
      "\t\tbatch_loss: nan\n",
      "\t\tbatch_loss: nan\n",
      "\t\tbatch_loss: nan\n",
      "\t\tbatch_loss: nan\n",
      "\tEpoch's loss: nan\n",
      "Epoch 5/10\n",
      "\t\tbatch_loss: nan\n",
      "\t\tbatch_loss: nan\n",
      "\t\tbatch_loss: nan\n",
      "\t\tbatch_loss: nan\n",
      "\tEpoch's loss: nan\n",
      "Epoch 6/10\n",
      "\t\tbatch_loss: nan\n",
      "\t\tbatch_loss: nan\n",
      "\t\tbatch_loss: nan\n",
      "\t\tbatch_loss: nan\n",
      "\tEpoch's loss: nan\n",
      "Epoch 7/10\n",
      "\t\tbatch_loss: nan\n",
      "\t\tbatch_loss: nan\n",
      "\t\tbatch_loss: nan\n",
      "\t\tbatch_loss: nan\n",
      "\tEpoch's loss: nan\n",
      "Epoch 8/10\n",
      "\t\tbatch_loss: nan\n",
      "\t\tbatch_loss: nan\n",
      "\t\tbatch_loss: nan\n",
      "\t\tbatch_loss: nan\n",
      "\tEpoch's loss: nan\n",
      "Epoch 9/10\n",
      "\t\tbatch_loss: nan\n",
      "\t\tbatch_loss: nan\n",
      "\t\tbatch_loss: nan\n",
      "\t\tbatch_loss: nan\n",
      "\tEpoch's loss: nan\n",
      "Epoch 10/10\n",
      "\t\tbatch_loss: nan\n",
      "\t\tbatch_loss: nan\n",
      "\t\tbatch_loss: nan\n",
      "\t\tbatch_loss: nan\n",
      "\tEpoch's loss: nan\n"
     ]
    }
   ],
   "source": [
    "run(X, Y, 10, 2)"
   ]
  },
  {
   "cell_type": "code",
   "execution_count": null,
   "metadata": {},
   "outputs": [],
   "source": []
  },
  {
   "cell_type": "code",
   "execution_count": null,
   "metadata": {},
   "outputs": [],
   "source": []
  }
 ],
 "metadata": {
  "kernelspec": {
   "display_name": "Python 3",
   "language": "python",
   "name": "python3"
  },
  "language_info": {
   "codemirror_mode": {
    "name": "ipython",
    "version": 3
   },
   "file_extension": ".py",
   "mimetype": "text/x-python",
   "name": "python",
   "nbconvert_exporter": "python",
   "pygments_lexer": "ipython3",
   "version": "3.6.5"
  }
 },
 "nbformat": 4,
 "nbformat_minor": 2
}
