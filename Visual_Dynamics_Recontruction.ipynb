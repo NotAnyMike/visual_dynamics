{
 "cells": [
  {
   "cell_type": "markdown",
   "metadata": {},
   "source": [
    "# Step by step reconstruction of the model"
   ]
  },
  {
   "cell_type": "code",
   "execution_count": 52,
   "metadata": {},
   "outputs": [],
   "source": [
    "import numpy as np\n",
    "import tensorflow as tf\n",
    "import os\n",
    "import cv2\n",
    "import matplotlib.pyplot as plt\n",
    "\n",
    "%matplotlib inline"
   ]
  },
  {
   "cell_type": "code",
   "execution_count": 2,
   "metadata": {},
   "outputs": [],
   "source": [
    "def load_data(img_dir, ending):\n",
    "    return np.array([cv2.imread(os.path.join(img_dir, img)) for img in os.listdir(img_dir) if img.endswith(ending)])\n"
   ]
  },
  {
   "cell_type": "code",
   "execution_count": 16,
   "metadata": {},
   "outputs": [],
   "source": [
    "X_ORG = load_data(\"3Shapes2_large/\", \"im1.png\")\n",
    "Y_ORG = load_data(\"3Shapes2_large/\",\"im2.png\")"
   ]
  },
  {
   "cell_type": "code",
   "execution_count": 17,
   "metadata": {},
   "outputs": [
    {
     "data": {
      "text/plain": [
       "(8015, 128, 128, 3)"
      ]
     },
     "execution_count": 17,
     "metadata": {},
     "output_type": "execute_result"
    }
   ],
   "source": [
    "X_ORG.shape"
   ]
  },
  {
   "cell_type": "code",
   "execution_count": 72,
   "metadata": {},
   "outputs": [],
   "source": [
    "X = X_ORG[:10]\n",
    "Y = Y_ORG[:10]"
   ]
  },
  {
   "cell_type": "code",
   "execution_count": 73,
   "metadata": {},
   "outputs": [],
   "source": [
    "def create_graph(img1, img2, batch_size):\n",
    "    img1_64 = tf.nn.max_pool(img1, ksize=[1,2,2,1], strides=[1,2,2,1], padding='VALID')\n",
    "    img2_64 = tf.nn.max_pool(img2, ksize=[1,2,2,1], strides=[1,2,2,1], padding='VALID')\n",
    "    \n",
    "    #Motion encoder\n",
    "\n",
    "    #First convolution: 5x5x96\n",
    "    weights = tf.Variable(tf.random_normal([5,5,3,96]))\n",
    "    bias = tf.Variable(tf.zeros([96,]))\n",
    "    logits = tf.nn.conv2d(img1_64, filter=weights, strides=[1,1,1,1], padding='SAME')\n",
    "    logits = tf.add(logits, bias)\n",
    "    logits = tf.nn.relu(logits)\n",
    "    \n",
    "    #Second convolution: 5x5x96\n",
    "    weights = tf.Variable(tf.random_normal([5,5,96,96]))\n",
    "    bias = tf.Variable(tf.zeros([96,]))\n",
    "    logits = tf.nn.conv2d(logits, filter=weights, strides=[1,1,1,1], padding='SAME')\n",
    "    logits = tf.add(logits, bias)\n",
    "    logits = tf.nn.max_pool(logits, ksize=[1,2,2,1], strides=[1,2,2,1], padding='VALID')\n",
    "    logits = tf.nn.relu(logits)\n",
    "    \n",
    "    #Third convolution: 5x5x128\n",
    "    weights = tf.Variable(tf.random_normal([5,5,96,128])) # 128\n",
    "    bias = tf.Variable(tf.zeros([128,]))\n",
    "    logits = tf.nn.conv2d(logits, filter=weights, strides=[1,1,1,1], padding='SAME')\n",
    "    logits = tf.add(logits, bias)\n",
    "    logits = tf.nn.max_pool(logits, ksize=[1,2,2,1], strides=[1,2,2,1], padding='VALID')\n",
    "    logits = tf.nn.relu(logits)\n",
    "    \n",
    "    #Forth convolution: 5x5x128\n",
    "    weights = tf.Variable(tf.random_normal([5,5,128,128]))\n",
    "    bias = tf.Variable(tf.zeros([128,]))\n",
    "    logits = tf.nn.conv2d(logits, filter=weights, strides=[1,1,1,1], padding='VALID')\n",
    "    logits = tf.add(logits, bias)\n",
    "    logits = tf.nn.max_pool(logits, ksize=[1,2,2,1], strides=[1,2,2,1], padding='VALID')\n",
    "    logits = tf.nn.relu(logits)\n",
    "\n",
    "    #Fifth convolution: 5x5x256\n",
    "    weights = tf.Variable(tf.random_normal([5,5,128,3])) #256\n",
    "    bias = tf.Variable(tf.zeros([3,]))\n",
    "    logits = tf.nn.conv2d(logits, filter=weights, strides=[1,1,1,1], padding='VALID')\n",
    "    logits = tf.add(logits, bias)\n",
    "    logits = tf.nn.max_pool(logits, ksize=[1,2,2,1], strides=[1,2,2,1], padding='VALID')\n",
    "    logits = tf.nn.relu(logits)\n",
    "\n",
    "    #Sixth convolution: 5x5x256\n",
    "    '''weights = tf.Variable(tf.random_normal([5,5,256,3])) # TODO change 3 for 256\n",
    "    bias = tf.Variable(tf.zeros([3,]))\n",
    "    logits = tf.nn.conv2d(logits, filter=weights, strides=[1,1,1,1], padding='SAME')\n",
    "    logits = tf.add(logits, bias)\n",
    "    logits = tf.nn.relu(logits)'''\n",
    "    \n",
    "    logits = tf.image.resize_images(logits, [64,128])\n",
    "    \n",
    "    #flatten\n",
    "    logits_flatten = tf.reshape(logits, shape=[logits.shape.as_list()[0],-1])\n",
    "    \n",
    "    # mean and std\n",
    "    mean, std_log = tf.split(logits_flatten, 2, axis=1)\n",
    "    epsilon = tf.random_normal(mean.shape.as_list(),0,1, dtype=tf.float32)\n",
    "    kernel = mean + tf.multiply(tf.exp(std_log),epsilon)\n",
    "    \n",
    "    kernel = tf.reshape(kernel, shape=[batch_size,64,64,3])\n",
    "    \n",
    "    return img1_64, img2_64, kernel\n"
   ]
  },
  {
   "cell_type": "code",
   "execution_count": 74,
   "metadata": {},
   "outputs": [],
   "source": [
    "def train(prediction, y):\n",
    "    l2_loss = tf.reduce_mean(tf.square(prediction - y))\n",
    "    optimizer = tf.train.AdamOptimizer(0.01)\n",
    "    train = optimizer.minimize(l2_loss)\n",
    "    \n",
    "    return l2_loss, train"
   ]
  },
  {
   "cell_type": "code",
   "execution_count": 75,
   "metadata": {},
   "outputs": [],
   "source": [
    "# run the model\n",
    "def run(X, Y, n_epochs = 10, batch_size = 30):\n",
    "    img1 = tf.placeholder(shape=(batch_size,128,128,3), dtype=tf.float32, name=\"s1s\")\n",
    "    img2 = tf.placeholder(shape=(batch_size,128,128,3), dtype=tf.float32)\n",
    "    \n",
    "    img1_64, img2_64, output = create_graph(img1, img2, batch_size)\n",
    "    loss, training = train(output, img2_64)\n",
    "    \n",
    "    with tf.Session() as sess:\n",
    "        \n",
    "        sess.run(tf.global_variables_initializer())\n",
    "        \n",
    "        for epoch in range(n_epochs):\n",
    "            \n",
    "            print('Epoch %i/%i' % (epoch+1, n_epochs))\n",
    "            cumulative_loss = 0.0\n",
    "            \n",
    "            for batch_num in range(int(X.shape[0]/batch_size)-1):\n",
    "                # get x and y\n",
    "                from_index = batch_size*batch_num\n",
    "                to_index = batch_size*batch_num + batch_size\n",
    "                x = X[from_index:to_index]\n",
    "                y = Y[from_index:to_index]\n",
    "                \n",
    "                # run train and loss\n",
    "                _, batch_loss = sess.run([training,loss], feed_dict={img1:x, img2:y})\n",
    "                print(\"\\t\\tbatch_loss:\", batch_loss)\n",
    "                cumulative_loss += batch_loss\n",
    "            \n",
    "            print(\"\\tEpoch's loss:\", cumulative_loss)\n",
    "        \n",
    "        final = output.eval(feed_dict={img1:X_ORG[11:13],img2:Y_ORG[11:13]})[0]\n",
    "        \n",
    "        fig, axs = plt.subplots(2)\n",
    "        axs[0].imshow(X_ORG[11])\n",
    "        axs[1].imshow(final)\n",
    "\n",
    "                "
   ]
  },
  {
   "cell_type": "markdown",
   "metadata": {},
   "source": [
    "# TODO\n",
    "1. Solve the nan problem\n",
    "2. Integrate different sizes"
   ]
  },
  {
   "cell_type": "code",
   "execution_count": 77,
   "metadata": {},
   "outputs": [
    {
     "name": "stdout",
     "output_type": "stream",
     "text": [
      "Epoch 1/10\n",
      "\t\tbatch_loss: inf\n",
      "\t\tbatch_loss: 41455.6\n",
      "\t\tbatch_loss: 46386.2\n",
      "\t\tbatch_loss: 40832.4\n",
      "\tEpoch's loss: inf\n",
      "Epoch 2/10\n",
      "\t\tbatch_loss: 43458.9\n",
      "\t\tbatch_loss: 41454.8\n",
      "\t\tbatch_loss: 46385.3\n",
      "\t\tbatch_loss: 40830.4\n",
      "\tEpoch's loss: 172129.292969\n",
      "Epoch 3/10\n",
      "\t\tbatch_loss: 43460.7\n",
      "\t\tbatch_loss: 41451.0\n",
      "\t\tbatch_loss: 46380.5\n",
      "\t\tbatch_loss: 40831.2\n",
      "\tEpoch's loss: 172123.390625\n",
      "Epoch 4/10\n",
      "\t\tbatch_loss: 43449.6\n",
      "\t\tbatch_loss: 41456.0\n",
      "\t\tbatch_loss: 46388.4\n",
      "\t\tbatch_loss: 40827.7\n",
      "\tEpoch's loss: 172121.714844\n",
      "Epoch 5/10\n",
      "\t\tbatch_loss: 43457.3\n",
      "\t\tbatch_loss: 41447.6\n",
      "\t\tbatch_loss: 46389.8\n",
      "\t\tbatch_loss: 40827.6\n",
      "\tEpoch's loss: 172122.273438\n",
      "Epoch 6/10\n",
      "\t\tbatch_loss: 43457.4\n",
      "\t\tbatch_loss: 41451.0\n",
      "\t\tbatch_loss: 46382.7\n",
      "\t\tbatch_loss: 40827.3\n",
      "\tEpoch's loss: 172118.429688\n",
      "Epoch 7/10\n",
      "\t\tbatch_loss: 43458.7\n",
      "\t\tbatch_loss: 41451.1\n",
      "\t\tbatch_loss: 46383.9\n",
      "\t\tbatch_loss: 40833.1\n",
      "\tEpoch's loss: 172126.796875\n",
      "Epoch 8/10\n",
      "\t\tbatch_loss: 43455.5\n",
      "\t\tbatch_loss: 41453.6\n",
      "\t\tbatch_loss: 46383.6\n",
      "\t\tbatch_loss: 40829.6\n",
      "\tEpoch's loss: 172122.335938\n",
      "Epoch 9/10\n",
      "\t\tbatch_loss: 43453.3\n",
      "\t\tbatch_loss: 41450.9\n",
      "\t\tbatch_loss: 46383.0\n",
      "\t\tbatch_loss: 40831.8\n",
      "\tEpoch's loss: 172119.066406\n",
      "Epoch 10/10\n",
      "\t\tbatch_loss: 43454.0\n",
      "\t\tbatch_loss: 41454.7\n",
      "\t\tbatch_loss: 46387.0\n",
      "\t\tbatch_loss: 40830.1\n",
      "\tEpoch's loss: 172125.753906\n"
     ]
    },
    {
     "name": "stderr",
     "output_type": "stream",
     "text": [
      "Clipping input data to the valid range for imshow with RGB data ([0..1] for floats or [0..255] for integers).\n"
     ]
    },
    {
     "data": {
      "image/png": "[encoded data removed]",
      "text/plain": [
       "<Figure size 432x288 with 2 Axes>"
      ]
     },
     "metadata": {},
     "output_type": "display_data"
    }
   ],
   "source": [
    "run(X, Y, 10, 2)"
   ]
  },
  {
   "cell_type": "code",
   "execution_count": null,
   "metadata": {},
   "outputs": [],
   "source": []
  },
  {
   "cell_type": "code",
   "execution_count": null,
   "metadata": {},
   "outputs": [],
   "source": []
  }
 ],
 "metadata": {
  "kernelspec": {
   "display_name": "Python 3",
   "language": "python",
   "name": "python3"
  },
  "language_info": {
   "codemirror_mode": {
    "name": "ipython",
    "version": 3
   },
   "file_extension": ".py",
   "mimetype": "text/x-python",
   "name": "python",
   "nbconvert_exporter": "python",
   "pygments_lexer": "ipython3",
   "version": "3.6.5"
  }
 },
 "nbformat": 4,
 "nbformat_minor": 2
}
