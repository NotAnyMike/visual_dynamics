{
 "cells": [
  {
   "cell_type": "markdown",
   "metadata": {},
   "source": [
    "# Step by step reconstruction of the model"
   ]
  },
  {
   "cell_type": "code",
   "execution_count": 18,
   "metadata": {},
   "outputs": [],
   "source": [
    "import numpy as np\n",
    "import tensorflow as tf\n",
    "import os\n",
    "import cv2"
   ]
  },
  {
   "cell_type": "code",
   "execution_count": 19,
   "metadata": {},
   "outputs": [],
   "source": [
    "def load_data(img_dir, ending):\n",
    "    return np.array([cv2.imread(os.path.join(img_dir, img)) for img in os.listdir(img_dir) if img.endswith(ending)])\n"
   ]
  },
  {
   "cell_type": "code",
   "execution_count": 38,
   "metadata": {},
   "outputs": [],
   "source": [
    "X = load_data(\"3Shapes2_large/\", \"im1.png\")\n",
    "Y = load_data(\"3Shapes2_large/\",\"im2.png\")"
   ]
  },
  {
   "cell_type": "code",
   "execution_count": 41,
   "metadata": {},
   "outputs": [
    {
     "data": {
      "text/plain": [
       "(10, 128, 128, 3)"
      ]
     },
     "execution_count": 41,
     "metadata": {},
     "output_type": "execute_result"
    }
   ],
   "source": [
    "X.shape"
   ]
  },
  {
   "cell_type": "code",
   "execution_count": 40,
   "metadata": {},
   "outputs": [],
   "source": [
    "X = X[:10]\n",
    "Y = Y[:10]"
   ]
  },
  {
   "cell_type": "code",
   "execution_count": 42,
   "metadata": {},
   "outputs": [],
   "source": [
    "def create_graph(img1, img2):\n",
    "    img1_64 = tf.nn.max_pool(img1, ksize=[1,2,2,1], strides=[1,2,2,1], padding='VALID')\n",
    "    img2_64 = tf.nn.max_pool(img2, ksize=[1,2,2,1], strides=[1,2,2,1], padding='VALID')\n",
    "    \n",
    "    #Motion encoder\n",
    "\n",
    "    #First convolution: 5x5x96\n",
    "    weights = tf.Variable(tf.random_normal([5,5,3,3]))\n",
    "    bias = tf.Variable(tf.zeros([3,]))\n",
    "    logits = tf.nn.conv2d(img1_64, filter=weights, strides=[1,1,1,1], padding='SAME')\n",
    "    logits = tf.add(logits, bias)\n",
    "    logits = tf.nn.relu(logits)\n",
    "    \n",
    "    return img1_64, img2_64, logits\n"
   ]
  },
  {
   "cell_type": "code",
   "execution_count": 43,
   "metadata": {},
   "outputs": [],
   "source": [
    "def train(prediction, y):\n",
    "    l2_loss = tf.reduce_mean(tf.square(prediction - y))\n",
    "    optimizer = tf.train.AdamOptimizer(0.01)\n",
    "    train = optimizer.minimize(l2_loss)\n",
    "    \n",
    "    return l2_loss, train"
   ]
  },
  {
   "cell_type": "code",
   "execution_count": 60,
   "metadata": {},
   "outputs": [],
   "source": [
    "# run the model\n",
    "def run(X, Y, n_epochs = 10, batch_size = 10):\n",
    "    img1 = tf.placeholder(shape=(batch_size,128,128,3), dtype=tf.float32, name=\"s1s\")\n",
    "    img2 = tf.placeholder(shape=(batch_size,128,128,3), dtype=tf.float32)\n",
    "    \n",
    "    img1_64, img2_64, output = create_graph(img1, img2)\n",
    "    loss, training = train(output, img2_64)\n",
    "    \n",
    "    with tf.Session() as sess:\n",
    "        for epoch in range(n_epochs):\n",
    "            \n",
    "            sess.run(tf.global_variables_initializer())\n",
    "            \n",
    "            print('Epoch %i/%i' % (epoch+1, n_epochs))\n",
    "            cumulative_loss = 0.0\n",
    "            \n",
    "            for batch_num in range(int(X.shape[0]/batch_size)-1):\n",
    "                # get x and y\n",
    "                x = X[batch_size*batch_num: batch_size*batch_num + batch_size]\n",
    "                y = Y[batch_size*batch_num: batch_size*batch_num + batch_size]\n",
    "                \n",
    "                # run train and loss\n",
    "                _, batch_loss = sess.run([training,loss], feed_dict={img1:x, img2:y})\n",
    "                print(\"\\t\\tbatch_loss:\", batch_loss)\n",
    "                cumulative_loss += batch_loss\n",
    "            \n",
    "            print(\"\\tEpoch's loss:\", cumulative_loss)\n",
    "                "
   ]
  },
  {
   "cell_type": "markdown",
   "metadata": {},
   "source": [
    "# TODO\n",
    "1. add the next convolution (working with only one resized img (64x64))"
   ]
  },
  {
   "cell_type": "code",
   "execution_count": 59,
   "metadata": {},
   "outputs": [
    {
     "name": "stdout",
     "output_type": "stream",
     "text": [
      "Epoch 1/10\n",
      "\t\tbatch_loss: 82363.7\n",
      "\t\tbatch_loss: 56363.9\n",
      "\t\tbatch_loss: 59719.2\n",
      "\t\tbatch_loss: 54523.5\n",
      "\tEpoch's loss: 252970.332031\n",
      "Epoch 2/10\n",
      "\t\tbatch_loss: 1.45739e+06\n",
      "\t\tbatch_loss: 1.18637e+06\n",
      "\t\tbatch_loss: 901312.0\n",
      "\t\tbatch_loss: 916315.0\n",
      "\tEpoch's loss: 4461387.75\n",
      "Epoch 3/10\n",
      "\t\tbatch_loss: 58004.5\n",
      "\t\tbatch_loss: 50856.4\n",
      "\t\tbatch_loss: 51355.9\n",
      "\t\tbatch_loss: 46259.2\n",
      "\tEpoch's loss: 206475.96875\n",
      "Epoch 4/10\n",
      "\t\tbatch_loss: 2.22307e+06\n",
      "\t\tbatch_loss: 1.94724e+06\n",
      "\t\tbatch_loss: 1.38992e+06\n",
      "\t\tbatch_loss: 969053.0\n",
      "\tEpoch's loss: 6529277.4375\n",
      "Epoch 5/10\n",
      "\t\tbatch_loss: 1.27121e+06\n",
      "\t\tbatch_loss: 1.0492e+06\n",
      "\t\tbatch_loss: 791415.0\n",
      "\t\tbatch_loss: 528558.0\n",
      "\tEpoch's loss: 3640381.125\n",
      "Epoch 6/10\n",
      "\t\tbatch_loss: 47402.6\n",
      "\t\tbatch_loss: 44134.1\n",
      "\t\tbatch_loss: 46456.3\n",
      "\t\tbatch_loss: 41619.9\n",
      "\tEpoch's loss: 179612.839844\n",
      "Epoch 7/10\n",
      "\t\tbatch_loss: 2.45434e+06\n",
      "\t\tbatch_loss: 2.06022e+06\n",
      "\t\tbatch_loss: 1.6945e+06\n",
      "\t\tbatch_loss: 1.89592e+06\n",
      "\tEpoch's loss: 8104973.25\n",
      "Epoch 8/10\n",
      "\t\tbatch_loss: 496721.0\n",
      "\t\tbatch_loss: 331395.0\n",
      "\t\tbatch_loss: 184265.0\n",
      "\t\tbatch_loss: 238960.0\n",
      "\tEpoch's loss: 1251340.39062\n",
      "Epoch 9/10\n",
      "\t\tbatch_loss: 95401.7\n",
      "\t\tbatch_loss: 77706.9\n",
      "\t\tbatch_loss: 71319.9\n",
      "\t\tbatch_loss: 57775.0\n",
      "\tEpoch's loss: 302203.5625\n",
      "Epoch 10/10\n",
      "\t\tbatch_loss: 54577.3\n",
      "\t\tbatch_loss: 48551.1\n",
      "\t\tbatch_loss: 48324.2\n",
      "\t\tbatch_loss: 44178.2\n",
      "\tEpoch's loss: 195630.816406\n"
     ]
    }
   ],
   "source": [
    "run(X, Y, 10, 2)"
   ]
  },
  {
   "cell_type": "code",
   "execution_count": null,
   "metadata": {},
   "outputs": [],
   "source": []
  }
 ],
 "metadata": {
  "kernelspec": {
   "display_name": "Python 3",
   "language": "python",
   "name": "python3"
  },
  "language_info": {
   "codemirror_mode": {
    "name": "ipython",
    "version": 3
   },
   "file_extension": ".py",
   "mimetype": "text/x-python",
   "name": "python",
   "nbconvert_exporter": "python",
   "pygments_lexer": "ipython3",
   "version": "3.6.5"
  }
 },
 "nbformat": 4,
 "nbformat_minor": 2
}
