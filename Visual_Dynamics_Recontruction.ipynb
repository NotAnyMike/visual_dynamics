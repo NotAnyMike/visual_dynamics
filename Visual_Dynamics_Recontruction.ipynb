{
 "cells": [
  {
   "cell_type": "markdown",
   "metadata": {},
   "source": [
    "# Step by step reconstruction of the model"
   ]
  },
  {
   "cell_type": "code",
   "execution_count": 1,
   "metadata": {},
   "outputs": [],
   "source": [
    "import numpy as np\n",
    "import tensorflow as tf\n",
    "import os\n",
    "import cv2"
   ]
  },
  {
   "cell_type": "code",
   "execution_count": 2,
   "metadata": {},
   "outputs": [],
   "source": [
    "def load_data(img_dir, ending):\n",
    "    return np.array([cv2.imread(os.path.join(img_dir, img)) for img in os.listdir(img_dir) if img.endswith(ending)])\n"
   ]
  },
  {
   "cell_type": "code",
   "execution_count": 3,
   "metadata": {},
   "outputs": [],
   "source": [
    "X = load_data(\"3Shapes2_large/\", \"im1.png\")\n",
    "Y = load_data(\"3Shapes2_large/\",\"im2.png\")"
   ]
  },
  {
   "cell_type": "code",
   "execution_count": 4,
   "metadata": {},
   "outputs": [
    {
     "data": {
      "text/plain": [
       "(8015, 128, 128, 3)"
      ]
     },
     "execution_count": 4,
     "metadata": {},
     "output_type": "execute_result"
    }
   ],
   "source": [
    "X.shape"
   ]
  },
  {
   "cell_type": "code",
   "execution_count": 5,
   "metadata": {},
   "outputs": [],
   "source": [
    "X = X[:10]\n",
    "Y = Y[:10]"
   ]
  },
  {
   "cell_type": "code",
   "execution_count": 26,
   "metadata": {},
   "outputs": [],
   "source": [
    "def create_graph(img1, img2):\n",
    "    img1_64 = tf.nn.max_pool(img1, ksize=[1,2,2,1], strides=[1,2,2,1], padding='VALID')\n",
    "    img2_64 = tf.nn.max_pool(img2, ksize=[1,2,2,1], strides=[1,2,2,1], padding='VALID')\n",
    "    \n",
    "    #Motion encoder\n",
    "\n",
    "    #First convolution: 5x5x96\n",
    "    weights = tf.Variable(tf.random_normal([5,5,3,96]))\n",
    "    bias = tf.Variable(tf.zeros([96,]))\n",
    "    logits = tf.nn.conv2d(img1_64, filter=weights, strides=[1,1,1,1], padding='SAME')\n",
    "    logits = tf.add(logits, bias)\n",
    "    logits = tf.nn.relu(logits)\n",
    "    \n",
    "    #Second convolution: 5x5x96\n",
    "    weights = tf.Variable(tf.random_normal([5,5,96,3]))\n",
    "    bias = tf.Variable(tf.zeros([3,]))\n",
    "    logits = tf.nn.conv2d(logits, filter=weights, strides=[1,1,1,1], padding='SAME')\n",
    "    logits = tf.add(logits, bias)\n",
    "    #logits = tf.nn.max_pool(logits, ksize=[1,2,2,1], strides=[1,2,2,1], padding='VALID')\n",
    "    logits = tf.nn.relu(logits)\n",
    "    \n",
    "    #Third convolution: 5x5x128\n",
    "    weights = tf.Variable(tf.random_normal([5,5,96,128]))\n",
    "    bias = tf.Variable(tf.zeros([128,]))\n",
    "    logits = tf.nn.conv2d(logits, filter=weights, strides=[1,1,1,1], padding='SAME')\n",
    "    logits = tf.add(logits, bias)\n",
    "    logits = tf.nn.max_pool(logits, ksize=[1,2,2,1], strides=[1,2,2,1], padding='VALID')\n",
    "    logits = tf.nn.relu(logits)\n",
    "    \n",
    "    return img1_64, img2_64, logits\n"
   ]
  },
  {
   "cell_type": "code",
   "execution_count": 27,
   "metadata": {},
   "outputs": [],
   "source": [
    "def train(prediction, y):\n",
    "    l2_loss = tf.reduce_mean(tf.square(prediction - y))\n",
    "    optimizer = tf.train.AdamOptimizer(0.01)\n",
    "    train = optimizer.minimize(l2_loss)\n",
    "    \n",
    "    return l2_loss, train"
   ]
  },
  {
   "cell_type": "code",
   "execution_count": 28,
   "metadata": {},
   "outputs": [],
   "source": [
    "# run the model\n",
    "def run(X, Y, n_epochs = 10, batch_size = 10):\n",
    "    img1 = tf.placeholder(shape=(batch_size,128,128,3), dtype=tf.float32, name=\"s1s\")\n",
    "    img2 = tf.placeholder(shape=(batch_size,128,128,3), dtype=tf.float32)\n",
    "    \n",
    "    img1_64, img2_64, output = create_graph(img1, img2)\n",
    "    loss, training = train(output, img2_64)\n",
    "    \n",
    "    with tf.Session() as sess:\n",
    "        for epoch in range(n_epochs):\n",
    "            \n",
    "            sess.run(tf.global_variables_initializer())\n",
    "            \n",
    "            print('Epoch %i/%i' % (epoch+1, n_epochs))\n",
    "            cumulative_loss = 0.0\n",
    "            \n",
    "            for batch_num in range(int(X.shape[0]/batch_size)-1):\n",
    "                # get x and y\n",
    "                x = X[batch_size*batch_num: batch_size*batch_num + batch_size]\n",
    "                y = Y[batch_size*batch_num: batch_size*batch_num + batch_size]\n",
    "                \n",
    "                # run train and loss\n",
    "                _, batch_loss = sess.run([training,loss], feed_dict={img1:x, img2:y})\n",
    "                print(\"\\t\\tbatch_loss:\", batch_loss)\n",
    "                cumulative_loss += batch_loss\n",
    "            \n",
    "            print(\"\\tEpoch's loss:\", cumulative_loss)\n",
    "                "
   ]
  },
  {
   "cell_type": "markdown",
   "metadata": {},
   "source": [
    "# TODO\n",
    "1. add the next convolution (working with only one resized img (64x64))"
   ]
  },
  {
   "cell_type": "code",
   "execution_count": 29,
   "metadata": {},
   "outputs": [
    {
     "name": "stdout",
     "output_type": "stream",
     "text": [
      "Epoch 1/10\n",
      "\t\tbatch_loss: 1.66962e+09\n",
      "\t\tbatch_loss: 2.09131e+08\n",
      "\t\tbatch_loss: 1.58105e+07\n",
      "\t\tbatch_loss: 5.50656e+06\n",
      "\tEpoch's loss: 1900066741.0\n",
      "Epoch 2/10\n",
      "\t\tbatch_loss: 5.39253e+08\n",
      "\t\tbatch_loss: 3.94068e+07\n",
      "\t\tbatch_loss: 7.72511e+06\n",
      "\t\tbatch_loss: 624703.0\n",
      "\tEpoch's loss: 587009185.375\n",
      "Epoch 3/10\n",
      "\t\tbatch_loss: 1.8949e+09\n",
      "\t\tbatch_loss: 2.83059e+08\n",
      "\t\tbatch_loss: 2.08557e+07\n",
      "\t\tbatch_loss: 7.34431e+06\n",
      "\tEpoch's loss: 2206161403.5\n",
      "Epoch 4/10\n",
      "\t\tbatch_loss: 7.25359e+07\n",
      "\t\tbatch_loss: 2.99733e+06\n",
      "\t\tbatch_loss: 365283.0\n",
      "\t\tbatch_loss: 201389.0\n",
      "\tEpoch's loss: 76099896.4531\n",
      "Epoch 5/10\n",
      "\t\tbatch_loss: 9.85981e+08\n",
      "\t\tbatch_loss: 1.11454e+08\n",
      "\t\tbatch_loss: 1.24701e+07\n",
      "\t\tbatch_loss: 4.75838e+06\n",
      "\tEpoch's loss: 1114663071.5\n",
      "Epoch 6/10\n",
      "\t\tbatch_loss: 2.0847e+09\n",
      "\t\tbatch_loss: 2.29733e+08\n",
      "\t\tbatch_loss: 2.63024e+07\n",
      "\t\tbatch_loss: 1.67848e+07\n",
      "\tEpoch's loss: 2357520118.0\n",
      "Epoch 7/10\n",
      "\t\tbatch_loss: 4.67182e+07\n",
      "\t\tbatch_loss: 3.44956e+06\n",
      "\t\tbatch_loss: 84348.6\n",
      "\t\tbatch_loss: 123258.0\n",
      "\tEpoch's loss: 50375399.2578\n",
      "Epoch 8/10\n",
      "\t\tbatch_loss: 1.03499e+09\n",
      "\t\tbatch_loss: 9.73406e+07\n",
      "\t\tbatch_loss: 1.79825e+07\n",
      "\t\tbatch_loss: 2.97592e+06\n",
      "\tEpoch's loss: 1153287094.75\n",
      "Epoch 9/10\n",
      "\t\tbatch_loss: 6.47933e+09\n",
      "\t\tbatch_loss: 2.58378e+09\n",
      "\t\tbatch_loss: 4.72008e+08\n",
      "\t\tbatch_loss: 5.06696e+07\n",
      "\tEpoch's loss: 9585783072.0\n",
      "Epoch 10/10\n",
      "\t\tbatch_loss: 1.84457e+09\n",
      "\t\tbatch_loss: 9.8772e+07\n",
      "\t\tbatch_loss: 8.51688e+06\n",
      "\t\tbatch_loss: 1.78406e+06\n",
      "\tEpoch's loss: 1953642362.62\n"
     ]
    }
   ],
   "source": [
    "run(X, Y, 10, 2)"
   ]
  },
  {
   "cell_type": "code",
   "execution_count": null,
   "metadata": {},
   "outputs": [],
   "source": []
  },
  {
   "cell_type": "code",
   "execution_count": null,
   "metadata": {},
   "outputs": [],
   "source": []
  }
 ],
 "metadata": {
  "kernelspec": {
   "display_name": "Python 3",
   "language": "python",
   "name": "python3"
  },
  "language_info": {
   "codemirror_mode": {
    "name": "ipython",
    "version": 3
   },
   "file_extension": ".py",
   "mimetype": "text/x-python",
   "name": "python",
   "nbconvert_exporter": "python",
   "pygments_lexer": "ipython3",
   "version": "3.6.5"
  }
 },
 "nbformat": 4,
 "nbformat_minor": 2
}
