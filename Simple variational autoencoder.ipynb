{
 "cells": [
  {
   "cell_type": "markdown",
   "metadata": {},
   "source": [
    "# Simple autoencoder"
   ]
  },
  {
   "cell_type": "code",
   "execution_count": 1,
   "metadata": {},
   "outputs": [],
   "source": [
    "import numpy as np\n",
    "import tensorflow as tf\n",
    "import os\n",
    "import cv2\n",
    "import matplotlib.pyplot as plt\n",
    "\n",
    "%matplotlib inline"
   ]
  },
  {
   "cell_type": "code",
   "execution_count": 2,
   "metadata": {},
   "outputs": [],
   "source": [
    "def load_data(img_dir, ending):\n",
    "    return np.array([cv2.imread(os.path.join(img_dir, img)) for img in os.listdir(img_dir) if img.endswith(ending)])\n"
   ]
  },
  {
   "cell_type": "code",
   "execution_count": 3,
   "metadata": {},
   "outputs": [
    {
     "data": {
      "text/plain": [
       "(8015, 128, 128, 3)"
      ]
     },
     "execution_count": 3,
     "metadata": {},
     "output_type": "execute_result"
    }
   ],
   "source": [
    "X_ORG = load_data(\"3Shapes2_large/\", \"im1.png\")\n",
    "X_ORG.shape"
   ]
  },
  {
   "cell_type": "code",
   "execution_count": 4,
   "metadata": {},
   "outputs": [],
   "source": [
    "X = X_ORG[:5]\n",
    "X = X/255"
   ]
  },
  {
   "cell_type": "code",
   "execution_count": 7,
   "metadata": {},
   "outputs": [],
   "source": [
    "def create_graph():\n",
    "    input_img = tf.placeholder(dtype=tf.float32, shape=[None,128,128,3], name=\"input\")\n",
    "    \n",
    "    logits = tf.contrib.layers.flatten(input_img)\n",
    "    \n",
    "    w = tf.Variable(tf.random_normal([(128*128*3),(16*16*3)]))\n",
    "    b = tf.Variable(tf.zeros((16*16*3)))\n",
    "    logits = tf.add(tf.matmul(logits,w),b)\n",
    "    logits = tf.nn.relu(logits)\n",
    "    \n",
    "    w = tf.Variable(tf.random_normal([(16*16*3),(8*4*3)]))\n",
    "    b = tf.Variable(tf.zeros((8*4*3)))\n",
    "    logits = tf.add(tf.matmul(logits,w),b)\n",
    "    logits = tf.nn.relu(logits)\n",
    "    \n",
    "    ## Do the sampling\n",
    "    # get mean and log_variance\n",
    "    mean = tf.slice(logits, begin=[0, 0], size=[1, int(8*4*3/2)])\n",
    "    mean = tf.Print(mean, [mean], \"mean:\")\n",
    "    stddev = tf.slice(logits, begin=[0, int(8*4*3/2)], size=[1, int(8*4*3/2)])\n",
    "    \n",
    "    # do sampling\n",
    "    logits = tf.random_normal(shape=mean.shape.as_list(), mean=mean, stddev=stddev)\n",
    "    logits = tf.Print(logits, [logits])\n",
    "                                      \n",
    "    #uncompressing\n",
    "                                      \n",
    "    w = tf.Variable(tf.random_normal([(4*4*3),(16*16*3)]))\n",
    "    b = tf.Variable(tf.zeros((16*16*3)))\n",
    "    logits = tf.add(tf.matmul(logits,w),b)\n",
    "    logits = tf.nn.relu(logits)\n",
    "                                      \n",
    "    w = tf.Variable(tf.random_normal([(16*16*3),(128*128*3)]))\n",
    "    b = tf.Variable(tf.zeros((128*128*3)))\n",
    "    logits = tf.add(tf.matmul(logits,w),b)\n",
    "    \n",
    "    logits = tf.reshape(logits, [-1, 128,128,3])\n",
    "    \n",
    "    return input_img, logits"
   ]
  },
  {
   "cell_type": "code",
   "execution_count": 8,
   "metadata": {},
   "outputs": [],
   "source": [
    "def train_fn(x,y):\n",
    "    loss = tf.reduce_mean(tf.square(x-y))\n",
    "    optimizer = tf.train.AdamOptimizer(0.01)\n",
    "    train = optimizer.minimize(loss)\n",
    "    \n",
    "    return loss, train"
   ]
  },
  {
   "cell_type": "code",
   "execution_count": 13,
   "metadata": {},
   "outputs": [],
   "source": [
    "def run(x_train, epochs, num_batches):\n",
    "    \n",
    "    org_input, output = create_graph()\n",
    "    loss, train = train_fn(org_input, output)\n",
    "    \n",
    "    with tf.Session() as sess:    \n",
    "        sess.run(tf.global_variables_initializer())\n",
    "        \n",
    "        for epoch in range(epochs):\n",
    "            print(\"\\nEpoch %i/%i:\" % (epoch+1, epochs))\n",
    "            epoch_loss = 0\n",
    "            \n",
    "            for batch in range(num_batches):           \n",
    "                length = int(x_train.shape[0]/num_batches)\n",
    "                x = x_train[(batch*length):((batch+1)*lenght if batch+1<num_batches else -1)]\n",
    "                _, batch_loss = sess.run([train, loss], feed_dict={org_input:x})\n",
    "                print(\"\\tloss:\", batch_loss)\n",
    "                epoch_loss += batch_loss\n",
    "            \n",
    "            print(\"\\tloss:\", epoch_loss)\n",
    "        \n",
    "        test = output.eval(feed_dict={org_input:X})\n",
    "        fig, axs = plt.subplots(2)\n",
    "        axs[0].imshow(X[0])\n",
    "        axs[1].imshow(test[0])"
   ]
  },
  {
   "cell_type": "code",
   "execution_count": 14,
   "metadata": {},
   "outputs": [
    {
     "name": "stdout",
     "output_type": "stream",
     "text": [
      "\n",
      "Epoch 1/20:\n",
      "\tloss: 2.37506e+11\n",
      "\tloss: 237506347008.0\n",
      "\n",
      "Epoch 2/20:\n",
      "\tloss: 2.84752e+11\n",
      "\tloss: 284752445440.0\n",
      "\n",
      "Epoch 3/20:\n",
      "\tloss: 1.18305e+11\n",
      "\tloss: 118305087488.0\n",
      "\n",
      "Epoch 4/20:\n",
      "\tloss: 5.12032e+10\n",
      "\tloss: 51203198976.0\n",
      "\n",
      "Epoch 5/20:\n",
      "\tloss: 1.24413e+11\n",
      "\tloss: 124412583936.0\n",
      "\n",
      "Epoch 6/20:\n",
      "\tloss: 2.77694e+10\n",
      "\tloss: 27769356288.0\n",
      "\n",
      "Epoch 7/20:\n",
      "\tloss: 4.49097e+10\n",
      "\tloss: 44909723648.0\n",
      "\n",
      "Epoch 8/20:\n",
      "\tloss: 2.19988e+10\n",
      "\tloss: 21998755840.0\n",
      "\n",
      "Epoch 9/20:\n",
      "\tloss: 9.28081e+09\n",
      "\tloss: 9280814080.0\n",
      "\n",
      "Epoch 10/20:\n",
      "\tloss: 2.62103e+09\n",
      "\tloss: 2621034752.0\n",
      "\n",
      "Epoch 11/20:\n",
      "\tloss: 2.0677e+09\n",
      "\tloss: 2067698688.0\n",
      "\n",
      "Epoch 12/20:\n",
      "\tloss: 6.27466e+08\n",
      "\tloss: 627465984.0\n",
      "\n",
      "Epoch 13/20:\n",
      "\tloss: 1.027e+06\n",
      "\tloss: 1027004.0\n",
      "\n",
      "Epoch 14/20:\n",
      "\tloss: 857557.0\n",
      "\tloss: 857556.9375\n",
      "\n",
      "Epoch 15/20:\n",
      "\tloss: 0.694779\n",
      "\tloss: 0.694779098034\n",
      "\n",
      "Epoch 16/20:\n",
      "\tloss: 0.695132\n",
      "\tloss: 0.695132255554\n",
      "\n",
      "Epoch 17/20:\n",
      "\tloss: 0.695496\n",
      "\tloss: 0.695495843887\n",
      "\n",
      "Epoch 18/20:\n",
      "\tloss: 0.695861\n",
      "\tloss: 0.695860803127\n",
      "\n",
      "Epoch 19/20:\n",
      "\tloss: 0.696225\n",
      "\tloss: 0.696224629879\n",
      "\n",
      "Epoch 20/20:\n"
     ]
    },
    {
     "name": "stderr",
     "output_type": "stream",
     "text": [
      "Clipping input data to the valid range for imshow with RGB data ([0..1] for floats or [0..255] for integers).\n"
     ]
    },
    {
     "name": "stdout",
     "output_type": "stream",
     "text": [
      "\tloss: 0.696579\n",
      "\tloss: 0.696579277515\n"
     ]
    },
    {
     "data": {
      "image/png": "[encoded data removed]",
      "text/plain": [
       "<Figure size 432x288 with 2 Axes>"
      ]
     },
     "metadata": {},
     "output_type": "display_data"
    }
   ],
   "source": [
    "run(X,20,1)"
   ]
  },
  {
   "cell_type": "code",
   "execution_count": null,
   "metadata": {},
   "outputs": [],
   "source": []
  },
  {
   "cell_type": "code",
   "execution_count": null,
   "metadata": {},
   "outputs": [],
   "source": []
  }
 ],
 "metadata": {
  "kernelspec": {
   "display_name": "Python 3",
   "language": "python",
   "name": "python3"
  },
  "language_info": {
   "codemirror_mode": {
    "name": "ipython",
    "version": 3
   },
   "file_extension": ".py",
   "mimetype": "text/x-python",
   "name": "python",
   "nbconvert_exporter": "python",
   "pygments_lexer": "ipython3",
   "version": "3.6.5"
  }
 },
 "nbformat": 4,
 "nbformat_minor": 2
}
