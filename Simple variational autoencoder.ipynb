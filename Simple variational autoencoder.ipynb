{
 "cells": [
  {
   "cell_type": "markdown",
   "metadata": {},
   "source": [
    "# Simple autoencoder"
   ]
  },
  {
   "cell_type": "code",
   "execution_count": 1,
   "metadata": {},
   "outputs": [],
   "source": [
    "import numpy as np\n",
    "import tensorflow as tf\n",
    "import os\n",
    "import cv2\n",
    "import matplotlib.pyplot as plt\n",
    "\n",
    "%matplotlib inline"
   ]
  },
  {
   "cell_type": "code",
   "execution_count": 2,
   "metadata": {},
   "outputs": [],
   "source": [
    "def load_data(img_dir, ending):\n",
    "    return np.array([cv2.imread(os.path.join(img_dir, img)) for img in os.listdir(img_dir) if img.endswith(ending)])\n"
   ]
  },
  {
   "cell_type": "code",
   "execution_count": 3,
   "metadata": {},
   "outputs": [
    {
     "data": {
      "text/plain": [
       "(8015, 128, 128, 3)"
      ]
     },
     "execution_count": 3,
     "metadata": {},
     "output_type": "execute_result"
    }
   ],
   "source": [
    "X_ORG = load_data(\"3Shapes2_large/\", \"im1.png\")\n",
    "X_ORG.shape"
   ]
  },
  {
   "cell_type": "code",
   "execution_count": 4,
   "metadata": {},
   "outputs": [],
   "source": [
    "X = X_ORG[:1]\n",
    "X = X/255-0.5"
   ]
  },
  {
   "cell_type": "code",
   "execution_count": 63,
   "metadata": {},
   "outputs": [],
   "source": [
    "def create_graph():\n",
    "    input_img = tf.placeholder(dtype=tf.float32, shape=[None,128,128,3], name=\"input\")\n",
    "    \n",
    "    logits = tf.contrib.layers.flatten(input_img)\n",
    "    \n",
    "    w = tf.Variable(tf.random_normal([(128*128*3),(16*16*3)]))\n",
    "    b = tf.Variable(tf.zeros((16*16*3)))\n",
    "    logits = tf.add(tf.matmul(logits,w),b)\n",
    "    logits = tf.nn.relu(logits)\n",
    "    \n",
    "    w = tf.Variable(tf.random_normal([(16*16*3),(8*4*3)]))\n",
    "    b = tf.Variable(tf.zeros((8*4*3)))\n",
    "    logits = tf.add(tf.matmul(logits,w),b)\n",
    "    logits = tf.nn.relu(logits)\n",
    "    \n",
    "    ## Do the sampling\n",
    "    # get mean and log_variance\n",
    "    mean = tf.slice(logits, begin=[0, 0], size=[1, int(8*4*3/2)])\n",
    "    mean = tf.Print(mean, [mean], \"mean:\")\n",
    "    stddev = tf.slice(logits, begin=[0, int(8*4*3/2)], size=[1, int(8*4*3/2)])\n",
    "    \n",
    "    # do sampling\n",
    "    logits = tf.random_normal(shape=[1, 4*4*3], mean=mean, stddev=stddev)\n",
    "    logits = tf.Print(logits, [logits])\n",
    "                                      \n",
    "    #uncompressing\n",
    "                                      \n",
    "    w = tf.Variable(tf.random_normal([(4*4*3),(16*16*3)]))\n",
    "    b = tf.Variable(tf.zeros((16*16*3)))\n",
    "    logits = tf.add(tf.matmul(logits,w),b)\n",
    "    logits = tf.nn.relu(logits)\n",
    "                                      \n",
    "    w = tf.Variable(tf.random_normal([(16*16*3),(128*128*3)]))\n",
    "    b = tf.Variable(tf.zeros((128*128*3)))\n",
    "    logits = tf.add(tf.matmul(logits,w),b)\n",
    "    \n",
    "    logits = tf.reshape(logits, [-1, 128,128,3])\n",
    "    \n",
    "    return input_img, logits"
   ]
  },
  {
   "cell_type": "code",
   "execution_count": 64,
   "metadata": {},
   "outputs": [],
   "source": [
    "def train_fn(x,y):\n",
    "    loss = tf.reduce_mean(tf.square(x-y))\n",
    "    optimizer = tf.train.AdamOptimizer(0.01)\n",
    "    train = optimizer.minimize(loss)\n",
    "    \n",
    "    return loss, train"
   ]
  },
  {
   "cell_type": "code",
   "execution_count": 65,
   "metadata": {},
   "outputs": [],
   "source": [
    "def run(x_train, epochs, num_batches):\n",
    "    \n",
    "    org_input, output = create_graph()\n",
    "    loss, train = train_fn(org_input, output)\n",
    "    \n",
    "    with tf.Session() as sess:    \n",
    "        sess.run(tf.global_variables_initializer())\n",
    "        \n",
    "        for epoch in range(epochs):\n",
    "            print(\"\\nEpoch %i/%i:\" % (epoch+1, epochs))\n",
    "            \n",
    "            _, batch_loss = sess.run([train, loss], feed_dict={org_input:x_train})\n",
    "            \n",
    "            print(\"\\tloss:\", batch_loss)\n",
    "        \n",
    "        test = output.eval(feed_dict={org_input:X})\n",
    "        fig, axs = plt.subplots(2)\n",
    "        axs[0].imshow(X[0])\n",
    "        axs[1].imshow(test[0])"
   ]
  },
  {
   "cell_type": "code",
   "execution_count": 66,
   "metadata": {},
   "outputs": [
    {
     "name": "stdout",
     "output_type": "stream",
     "text": [
      "\n",
      "Epoch 1/20:\n",
      "\tloss: 8.78105e+10\n",
      "\n",
      "Epoch 2/20:\n",
      "\tloss: 1.3022e+11\n",
      "\n",
      "Epoch 3/20:\n",
      "\tloss: 6.41204e+10\n",
      "\n",
      "Epoch 4/20:\n",
      "\tloss: 2.00434e+10\n",
      "\n",
      "Epoch 5/20:\n",
      "\tloss: 1.24868e+10\n",
      "\n",
      "Epoch 6/20:\n",
      "\tloss: 1.14184e+10\n",
      "\n",
      "Epoch 7/20:\n",
      "\tloss: 1.73041e+09\n",
      "\n",
      "Epoch 8/20:\n",
      "\tloss: 1.69686e+09\n",
      "\n",
      "Epoch 9/20:\n",
      "\tloss: 4.57706e+09\n",
      "\n",
      "Epoch 10/20:\n",
      "\tloss: 9.5818e+08\n",
      "\n",
      "Epoch 11/20:\n",
      "\tloss: 4.68314e+09\n",
      "\n",
      "Epoch 12/20:\n",
      "\tloss: 3.73317e+09\n",
      "\n",
      "Epoch 13/20:\n",
      "\tloss: 4.5992e+07\n",
      "\n",
      "Epoch 14/20:\n",
      "\tloss: 6.35573e+06\n",
      "\n",
      "Epoch 15/20:\n",
      "\tloss: 1.93561e+06\n",
      "\n",
      "Epoch 16/20:\n",
      "\tloss: 0.140793\n",
      "\n",
      "Epoch 17/20:\n",
      "\tloss: 1063.87\n",
      "\n",
      "Epoch 18/20:\n",
      "\tloss: 642442.0\n",
      "\n",
      "Epoch 19/20:\n",
      "\tloss: 5.79815e+06\n",
      "\n",
      "Epoch 20/20:\n",
      "\tloss: 0.141702\n"
     ]
    },
    {
     "name": "stderr",
     "output_type": "stream",
     "text": [
      "Clipping input data to the valid range for imshow with RGB data ([0..1] for floats or [0..255] for integers).\n",
      "Clipping input data to the valid range for imshow with RGB data ([0..1] for floats or [0..255] for integers).\n"
     ]
    },
    {
     "data": {
      "image/png": "[encoded data removed]",
      "text/plain": [
       "<Figure size 432x288 with 2 Axes>"
      ]
     },
     "metadata": {},
     "output_type": "display_data"
    }
   ],
   "source": [
    "run(X,20,1)"
   ]
  },
  {
   "cell_type": "code",
   "execution_count": null,
   "metadata": {},
   "outputs": [],
   "source": []
  }
 ],
 "metadata": {
  "kernelspec": {
   "display_name": "Python 3",
   "language": "python",
   "name": "python3"
  },
  "language_info": {
   "codemirror_mode": {
    "name": "ipython",
    "version": 3
   },
   "file_extension": ".py",
   "mimetype": "text/x-python",
   "name": "python",
   "nbconvert_exporter": "python",
   "pygments_lexer": "ipython3",
   "version": "3.6.5"
  }
 },
 "nbformat": 4,
 "nbformat_minor": 2
}
