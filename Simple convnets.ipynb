{
 "cells": [
  {
   "cell_type": "markdown",
   "metadata": {},
   "source": [
    "# Simple autoencoder"
   ]
  },
  {
   "cell_type": "code",
   "execution_count": 1,
   "metadata": {},
   "outputs": [],
   "source": [
    "import numpy as np\n",
    "import tensorflow as tf\n",
    "import os\n",
    "import cv2\n",
    "import matplotlib.pyplot as plt\n",
    "\n",
    "%matplotlib inline"
   ]
  },
  {
   "cell_type": "code",
   "execution_count": 2,
   "metadata": {},
   "outputs": [],
   "source": [
    "def load_data(img_dir, ending):\n",
    "    return np.array([cv2.imread(os.path.join(img_dir, img)) for img in os.listdir(img_dir) if img.endswith(ending)])\n"
   ]
  },
  {
   "cell_type": "code",
   "execution_count": 3,
   "metadata": {},
   "outputs": [
    {
     "data": {
      "text/plain": [
       "(8015, 128, 128, 3)"
      ]
     },
     "execution_count": 3,
     "metadata": {},
     "output_type": "execute_result"
    }
   ],
   "source": [
    "X_ORG = load_data(\"3Shapes2_large/\", \"im1.png\")\n",
    "X_ORG.shape"
   ]
  },
  {
   "cell_type": "code",
   "execution_count": 4,
   "metadata": {},
   "outputs": [],
   "source": [
    "X = X_ORG[:1]"
   ]
  },
  {
   "cell_type": "code",
   "execution_count": 24,
   "metadata": {},
   "outputs": [],
   "source": [
    "def create_graph():\n",
    "    input_img = tf.placeholder(dtype=tf.float32, shape=[None,128,128,3], name=\"input\")\n",
    "    \n",
    "    logits = tf.contrib.layers.flatten(input_img)\n",
    "    \n",
    "    w = tf.Variable(tf.random_normal([(128*128*3),(64*64*3)]))\n",
    "    b = tf.Variable(tf.zeros((64*64*3)))\n",
    "    logits = tf.add(tf.matmul(logits,w),b)\n",
    "    logits = tf.nn.relu(logits)\n",
    "    \n",
    "    w = tf.Variable(tf.random_normal([(64*64*3),(16*16*3)]))\n",
    "    b = tf.Variable(tf.zeros((16*16*3)))\n",
    "    logits = tf.add(tf.matmul(logits,w),b)\n",
    "    logits = tf.nn.relu(logits)\n",
    "    \n",
    "    w = tf.Variable(tf.random_normal([(16*16*3),(8*8*3)]))\n",
    "    b = tf.Variable(tf.zeros((8*8*3)))\n",
    "    logits = tf.add(tf.matmul(logits,w),b)\n",
    "    logits = tf.nn.relu(logits)\n",
    "                                      \n",
    "    #uncompressing\n",
    "                                      \n",
    "    w = tf.Variable(tf.random_normal([(8*8*3),(16*16*3)]))\n",
    "    b = tf.Variable(tf.zeros((16*16*3)))\n",
    "    logits = tf.add(tf.matmul(logits,w),b)\n",
    "    logits = tf.nn.relu(logits)\n",
    "                                      \n",
    "    w = tf.Variable(tf.random_normal([(16*16*3),(128*128*3)]))\n",
    "    b = tf.Variable(tf.zeros((128*128*3)))\n",
    "    logits = tf.add(tf.matmul(logits,w),b)\n",
    "    \n",
    "    logits = tf.reshape(logits, [-1, 128,128,3])\n",
    "    \n",
    "    return input_img, logits"
   ]
  },
  {
   "cell_type": "code",
   "execution_count": 25,
   "metadata": {},
   "outputs": [],
   "source": [
    "def train_fn(x,y):\n",
    "    loss = tf.reduce_mean(tf.square(x-y))\n",
    "    optimizer = tf.train.AdamOptimizer(0.01)\n",
    "    train = optimizer.minimize(loss)\n",
    "    \n",
    "    return loss, train"
   ]
  },
  {
   "cell_type": "code",
   "execution_count": 26,
   "metadata": {},
   "outputs": [],
   "source": [
    "def run(x_train, epochs, num_batches):\n",
    "    \n",
    "    org_input, output = create_graph()\n",
    "    loss, train = train_fn(org_input, output)\n",
    "    \n",
    "    with tf.Session() as sess:    \n",
    "        sess.run(tf.global_variables_initializer())\n",
    "        \n",
    "        for epoch in range(epochs):\n",
    "            print(\"\\nEpoch %i/%i:\" % (epoch+1, epochs))\n",
    "            t\n",
    "            _, batch_loss = sess.run([train, loss], feed_dict={org_input:x_train})\n",
    "            \n",
    "            print(\"\\tloss:\", batch_loss)"
   ]
  },
  {
   "cell_type": "code",
   "execution_count": null,
   "metadata": {},
   "outputs": [],
   "source": [
    "run(X,10,1)"
   ]
  },
  {
   "cell_type": "code",
   "execution_count": null,
   "metadata": {},
   "outputs": [],
   "source": []
  },
  {
   "cell_type": "code",
   "execution_count": null,
   "metadata": {},
   "outputs": [],
   "source": []
  }
 ],
 "metadata": {
  "kernelspec": {
   "display_name": "Python 3",
   "language": "python",
   "name": "python3"
  },
  "language_info": {
   "codemirror_mode": {
    "name": "ipython",
    "version": 3
   },
   "file_extension": ".py",
   "mimetype": "text/x-python",
   "name": "python",
   "nbconvert_exporter": "python",
   "pygments_lexer": "ipython3",
   "version": "3.6.5"
  }
 },
 "nbformat": 4,
 "nbformat_minor": 2
}
