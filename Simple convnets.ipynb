{
 "cells": [
  {
   "cell_type": "code",
   "execution_count": 1,
   "metadata": {},
   "outputs": [],
   "source": [
    "import numpy as np\n",
    "import tensorflow as tf\n",
    "import os\n",
    "import cv2\n",
    "import matplotlib.pyplot as plt\n",
    "\n",
    "%matplotlib inline"
   ]
  },
  {
   "cell_type": "code",
   "execution_count": 2,
   "metadata": {},
   "outputs": [],
   "source": [
    "def load_data(img_dir, ending):\n",
    "    return np.array([cv2.imread(os.path.join(img_dir, img)) for img in os.listdir(img_dir) if img.endswith(ending)])\n"
   ]
  },
  {
   "cell_type": "code",
   "execution_count": 5,
   "metadata": {},
   "outputs": [
    {
     "data": {
      "text/plain": [
       "(8015, 128, 128, 3)"
      ]
     },
     "execution_count": 5,
     "metadata": {},
     "output_type": "execute_result"
    }
   ],
   "source": [
    "X_ORG = load_data(\"3Shapes2_large/\", \"im1.png\")\n",
    "X_ORG.shape"
   ]
  },
  {
   "cell_type": "code",
   "execution_count": 6,
   "metadata": {},
   "outputs": [],
   "source": [
    "X = X_ORG[:10]"
   ]
  },
  {
   "cell_type": "code",
   "execution_count": 73,
   "metadata": {},
   "outputs": [],
   "source": [
    "def create_graph():\n",
    "    input_img = tf.placeholder(dtype=tf.float32, shape=[None,128,128,3], name=\"input\")\n",
    "    \n",
    "    w = tf.Variable(tf.random_normal([8,8,3,32]))\n",
    "    bias = tf.Variable(tf.zeros([32]))\n",
    "    logits = tf.nn.conv2d(input_img, filter=w, strides=[1,4,4,1], padding='SAME')\n",
    "    logits = tf.nn.relu(tf.add(logits, bias))\n",
    "    \n",
    "    w = tf.Variable(tf.random_normal([8,8,32,64]))\n",
    "    bias = tf.Variable(tf.zeros([64]))\n",
    "    logits = tf.nn.conv2d(input_img, filter=w, strides=[1,4,4,1], padding='SAME')\n",
    "    logits = tf.nn.relu(tf.add(logits, bias))\n",
    "    \n",
    "    logits = tf.image.resize_images\n",
    "    \n",
    "    output_img = tf.multiply(input_img, w)\n",
    "    \n",
    "    return input_img, output_img"
   ]
  },
  {
   "cell_type": "code",
   "execution_count": 74,
   "metadata": {},
   "outputs": [],
   "source": [
    "def train_fn(x,y):\n",
    "    loss = tf.reduce_mean(tf.square(x-y))\n",
    "    optimizer = tf.train.AdamOptimizer(0.01)\n",
    "    train = optimizer.minimize(loss)\n",
    "    \n",
    "    return loss, train"
   ]
  },
  {
   "cell_type": "code",
   "execution_count": 95,
   "metadata": {},
   "outputs": [],
   "source": [
    "def run(x_train, epochs, num_batches):\n",
    "    \n",
    "    org_input, output = create_graph()\n",
    "    loss, train = train_fn(org_input, output)\n",
    "    \n",
    "    with tf.Session() as sess:    \n",
    "        sess.run(tf.global_variables_initializer())\n",
    "        \n",
    "        for epoch in range(epochs):\n",
    "            print(\"\\nEpoch %i/%i:\" % (epoch+1, epochs))\n",
    "            \n",
    "            _, batch_loss = sess.run([train, loss], feed_dict={org_input:x_train})\n",
    "            \n",
    "            print(\"\\tloss:\", batch_loss)"
   ]
  },
  {
   "cell_type": "code",
   "execution_count": 96,
   "metadata": {},
   "outputs": [
    {
     "name": "stdout",
     "output_type": "stream",
     "text": [
      "\n",
      "Epoch 1/10\n",
      "\tloss: 87164.4\n",
      "\n",
      "Epoch 2/10\n",
      "\tloss: 86154.0\n",
      "\n",
      "Epoch 3/10\n",
      "\tloss: 85153.0\n",
      "\n",
      "Epoch 4/10\n",
      "\tloss: 84160.2\n",
      "\n",
      "Epoch 5/10\n",
      "\tloss: 83177.3\n",
      "\n",
      "Epoch 6/10\n",
      "\tloss: 82203.1\n",
      "\n",
      "Epoch 7/10\n",
      "\tloss: 81237.8\n",
      "\n",
      "Epoch 8/10\n",
      "\tloss: 80282.2\n",
      "\n",
      "Epoch 9/10\n",
      "\tloss: 79335.1\n",
      "\n",
      "Epoch 10/10\n",
      "\tloss: 78398.4\n"
     ]
    }
   ],
   "source": [
    "run(X,10,2)"
   ]
  },
  {
   "cell_type": "code",
   "execution_count": null,
   "metadata": {},
   "outputs": [],
   "source": []
  },
  {
   "cell_type": "code",
   "execution_count": null,
   "metadata": {},
   "outputs": [],
   "source": []
  }
 ],
 "metadata": {
  "kernelspec": {
   "display_name": "Python 3",
   "language": "python",
   "name": "python3"
  },
  "language_info": {
   "codemirror_mode": {
    "name": "ipython",
    "version": 3
   },
   "file_extension": ".py",
   "mimetype": "text/x-python",
   "name": "python",
   "nbconvert_exporter": "python",
   "pygments_lexer": "ipython3",
   "version": "3.6.5"
  }
 },
 "nbformat": 4,
 "nbformat_minor": 2
}
